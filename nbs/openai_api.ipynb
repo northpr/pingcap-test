{
 "cells": [
  {
   "cell_type": "code",
   "execution_count": 58,
   "metadata": {},
   "outputs": [],
   "source": [
    "from openai import OpenAI\n",
    "import configparser\n",
    "\n",
    "config = configparser.ConfigParser()\n",
    "config.read('config.ini')\n",
    "openai_api_key = config['API_Configuration']['openai_api_key']"
   ]
  },
  {
   "cell_type": "code",
   "execution_count": 59,
   "metadata": {},
   "outputs": [],
   "source": [
    "def format_prompt(clarified_task, sql_query, columns, rows):\n",
    "    \"\"\"\n",
    "    Concisely formats the task description, SQL query, and results into a structured prompt.\n",
    "    \"\"\"\n",
    "    prompt = f\"**Task:** {clarified_task}\\n\" \\\n",
    "            f\"**SQL Query:**\\n```\\n{sql_query}\\n```\\n\" \\\n",
    "            f\"**Data Summary:**\\n\" \\\n",
    "            f\"Total Items: {len(rows)}, Columns: {', '.join(columns)}\\n\\n\"\n",
    "\n",
    "    return prompt\n",
    "\n",
    "def create_summary_message(clarified_task, sql_query, columns, rows):\n",
    "    \"\"\"\n",
    "    Prepares concise system and user messages focusing on key insights and actions.\n",
    "    \"\"\"\n",
    "    formatted_prompt = format_prompt(clarified_task, sql_query, columns, rows)\n",
    "    \n",
    "    system_message = \"Analyze dataset to provide key, actionable strategies, and a brief conclusion.\"\n",
    "    \n",
    "    messages = [\n",
    "        {'role': 'system', 'content': system_message},\n",
    "        {'role': 'user', 'content': formatted_prompt}\n",
    "    ]\n",
    "    \n",
    "    return messages\n"
   ]
  },
  {
   "cell_type": "markdown",
   "metadata": {},
   "source": [
    "# Testing"
   ]
  },
  {
   "cell_type": "code",
   "execution_count": 60,
   "metadata": {},
   "outputs": [],
   "source": [
    "client = OpenAI(api_key=openai_api_key)"
   ]
  },
  {
   "cell_type": "code",
   "execution_count": 4,
   "metadata": {},
   "outputs": [],
   "source": [
    "# completion = client.chat.completions.create(\n",
    "#     model='gpt-3.5-turbo',\n",
    "#     messages=[\n",
    "#         {'role': 'system','content': 'you are a poetic assistant, skilled in explaining complex programming concepts with creative flair.'},\n",
    "#         {'role': 'user', 'content': 'Compose a poem that explains the concept of recursion'}\n",
    "#     ]\n",
    "# )   \n",
    "\n",
    "# print(completion.choices[0].message)\n"
   ]
  },
  {
   "cell_type": "code",
   "execution_count": 61,
   "metadata": {},
   "outputs": [
    {
     "name": "stdout",
     "output_type": "stream",
     "text": [
      "Based on the SQL query and data summary provided, here are some key strategies that can be derived from the dataset:\n",
      "\n",
      "1. **Replenishment Planning:** Identify the items that are below their minimum stock level to prioritize their replenishment. This will help in maintaining adequate stock levels and preventing stockouts.\n",
      "\n",
      "2. **Inventory Management:** Analyze the warehouse locations of the items that are below minimum stock levels to optimize inventory placement and ensure efficient stock replenishment processes.\n",
      "\n",
      "3. **Supplier Communication:** Notify suppliers about the items that are running low to avoid disrupted supply chains and maintain smooth operations.\n",
      "\n",
      "4. **Demand Forecasting:** Use the data on minimum stock levels and current stock to improve demand forecasting and inventory planning for future periods.\n",
      "\n",
      "5. **Performance Monitoring:** Track the trend of items falling below minimum stock levels over time to identify patterns and optimize inventory management strategies.\n",
      "\n",
      "**Conclusion:**\n",
      "The analysis of items below minimum stock levels provides actionable insights for improving inventory management practices, ensuring stock availability, and optimizing supply chain operations. By implementing the strategies mentioned above, organizations can enhance efficiency, reduce stockouts, and improve overall inventory performance.\n"
     ]
    }
   ],
   "source": [
    "query_result_example = {'clarified_task': 'Retrieve the stock of items that are lower than the minimum stock level.', 'sql_query': 'SELECT * FROM `toyota_inventory_records` WHERE `current_stock` < `minimum_stock_level`;', 'columns': ['inventory_id', 'part_id', 'current_stock', 'minimum_stock_level', 'warehouse_location'], 'rows': [['I00005', 'P00005', '4', '19', 'Port Timothy'], ['I00021', 'P00021', '8', '10', 'North Jamesfort'], ['I00025', 'P00025', '18', '19', 'Kimberlyside'], ['I00028', 'P00028', '1', '16', 'South Anthonyside'], ['I00031', 'P00031', '15', '18', 'East Jimmy'], ['I00039', 'P00039', '1', '11', 'Ortizmouth'], ['I00057', 'P00057', '1', '10', 'East Briannaberg'], ['I00085', 'P00085', '14', '16', 'New Matthew'], ['I00089', 'P00089', '5', '20', 'Marcuston'], ['I00091', 'P00091', '8', '19', 'West Daniel'], ['I00096', 'P00096', '10', '17', 'Ginafort'], ['I00103', 'P00103', '8', '14', 'South Steventown'], ['I00107', 'P00107', '8', '12', 'Daleburgh'], ['I00109', 'P00109', '17', '20', 'Schultzshire'], ['I00112', 'P00112', '11', '19', 'Port Jermainehaven'], ['I00115', 'P00115', '2', '12', 'Maryview'], ['I00116', 'P00116', '11', '18', 'Maloneland'], ['I00125', 'P00125', '10', '16', 'Port Kevin'], ['I00126', 'P00126', '4', '18', 'North Barryborough'], ['I00136', 'P00136', '6', '16', 'Hudsonfurt'], ['I00161', 'P00161', '0', '14', 'West Patricia'], ['I00181', 'P00181', '9', '19', 'Victoriastad'], ['I00187', 'P00187', '11', '20', 'Martinmouth'], ['I00188', 'P00188', '6', '13', 'Lake Cindy'], ['I00190', 'P00190', '5', '12', 'Tracyburgh'], ['I00194', 'P00194', '0', '18', 'Joshuachester'], ['I00195', 'P00195', '4', '12', 'North Ashleymouth'], ['I00196', 'P00196', '12', '15', 'Jadeton'], ['I00211', 'P00211', '3', '18', 'Davisfurt'], ['I00218', 'P00218', '1', '14', 'East Ashleyton'], ['I00220', 'P00220', '9', '10', 'Bettybury'], ['I00222', 'P00222', '1', '18', 'Mccallmouth'], ['I00223', 'P00223', '7', '11', 'Mossshire'], ['I00230', 'P00230', '6', '19', 'Lake Nicolasview'], ['I00240', 'P00240', '8', '16', 'Stevenland'], ['I00242', 'P00242', '1', '14', 'Alexandrabury'], ['I00243', 'P00243', '0', '18', 'New Allen'], ['I00247', 'P00247', '9', '12', 'Carolinebury'], ['I00251', 'P00251', '3', '16', 'Holdenview'], ['I00254', 'P00254', '8', '20', 'Davidville'], ['I00261', 'P00261', '10', '19', 'East Timothy'], ['I00278', 'P00278', '4', '14', 'South Dakota'], ['I00296', 'P00296', '16', '17', 'Earlland'], ['I00316', 'P00316', '14', '17', 'Lisachester'], ['I00318', 'P00318', '3', '19', 'East Kayla'], ['I00319', 'P00319', '11', '18', 'Johnville'], ['I00321', 'P00321', '4', '11', 'Markshire'], ['I00335', 'P00335', '17', '19', 'New David'], ['I00339', 'P00339', '3', '20', 'Amandatown'], ['I00341', 'P00341', '9', '11', 'Laceytown'], ['I00347', 'P00347', '13', '19', 'New Kurtfurt'], ['I00357', 'P00357', '8', '19', 'Hughesburgh'], ['I00363', 'P00363', '5', '16', 'Castillochester'], ['I00382', 'P00382', '5', '16', 'New James'], ['I00384', 'P00384', '9', '17', 'East Ashley'], ['I00391', 'P00391', '5', '15', 'New Michael'], ['I00401', 'P00401', '2', '14', 'Austinberg'], ['I00403', 'P00403', '12', '20', 'Smithfort'], ['I00411', 'P00411', '9', '15', 'New Preston'], ['I00423', 'P00423', '9', '10', 'Taylorville'], ['I00424', 'P00424', '10', '19', 'North Toddmouth'], ['I00426', 'P00426', '3', '17', 'Phillipshire'], ['I00427', 'P00427', '9', '19', 'Garrettburgh'], ['I00429', 'P00429', '11', '12', 'Clintonchester'], ['I00430', 'P00430', '14', '16', 'North James'], ['I00439', 'P00439', '5', '15', 'East Kevinbury'], ['I00452', 'P00452', '13', '15', 'West Katherine'], ['I00455', 'P00455', '3', '18', 'Freymouth'], ['I00460', 'P00460', '0', '20', 'North James'], ['I00469', 'P00469', '14', '15', 'East Brandonton'], ['I00481', 'P00481', '6', '13', 'West William'], ['I00482', 'P00482', '3', '20', 'Joneschester'], ['I00494', 'P00494', '3', '20', 'New Miguel'], ['I00501', 'P00501', '8', '16', 'Richardsonland'], ['I00505', 'P00505', '15', '16', 'Hollyport'], ['I00516', 'P00516', '9', '18', 'South Brian'], ['I00519', 'P00519', '9', '17', 'North Stacey'], ['I00522', 'P00522', '17', '19', 'Harrisberg'], ['I00528', 'P00528', '2', '12', 'West Brendatown'], ['I00533', 'P00533', '2', '14', 'Williamstad'], ['I00534', 'P00534', '9', '12', 'Lake Keithville'], ['I00542', 'P00542', '19', '20', 'North James'], ['I00543', 'P00543', '9', '17', 'Tiffanyton'], ['I00544', 'P00544', '3', '16', 'East Larrytown'], ['I00548', 'P00548', '5', '16', 'Blairchester'], ['I00552', 'P00552', '11', '17', 'Smithburgh'], ['I00562', 'P00562', '8', '10', 'Port Tinabury'], ['I00581', 'P00581', '10', '18', 'Jessicamouth'], ['I00582', 'P00582', '6', '19', 'Rossmouth'], ['I00585', 'P00585', '8', '18', 'Riddlemouth'], ['I00596', 'P00596', '9', '16', 'Brownborough'], ['I00605', 'P00605', '2', '16', 'West Alicia'], ['I00614', 'P00614', '3', '14', 'Jamestown'], ['I00623', 'P00623', '6', '10', 'Staceyfurt'], ['I00628', 'P00628', '2', '17', 'New Melissaton'], ['I00630', 'P00630', '6', '20', 'Deleonbury'], ['I00647', 'P00647', '4', '11', 'New Juanbury'], ['I00665', 'P00665', '16', '19', 'Danielside'], ['I00667', 'P00667', '8', '10', 'East Karenborough'], ['I00668', 'P00668', '18', '20', 'Taylorborough'], ['I00677', 'P00677', '16', '18', 'Christinafurt'], ['I00682', 'P00682', '8', '15', 'Port Melissa'], ['I00685', 'P00685', '2', '19', 'South Hannahshire'], ['I00690', 'P00690', '17', '18', 'New Erica'], ['I00692', 'P00692', '2', '19', 'North Jonathanton'], ['I00695', 'P00695', '5', '15', 'East Hayley'], ['I00707', 'P00707', '2', '11', 'Parkerland'], ['I00709', 'P00709', '0', '13', 'Matthewsfurt'], ['I00714', 'P00714', '15', '18', 'Grantbury'], ['I00732', 'P00732', '2', '17', 'Rodriguezfurt'], ['I00736', 'P00736', '18', '19', 'Ellismouth'], ['I00738', 'P00738', '15', '18', 'West Raymond'], ['I00745', 'P00745', '8', '18', 'New Christopher'], ['I00750', 'P00750', '11', '14', 'South Laura'], ['I00753', 'P00753', '7', '10', 'Nicholasside'], ['I00758', 'P00758', '2', '19', 'North Jessica'], ['I00765', 'P00765', '14', '17', 'Lake Alexandria'], ['I00777', 'P00777', '9', '11', 'East Jason'], ['I00778', 'P00778', '11', '14', 'South Joseph'], ['I00809', 'P00809', '0', '14', 'Port Kristenbury'], ['I00816', 'P00816', '7', '19', 'Laurenville'], ['I00822', 'P00822', '10', '18', 'South Stephanie'], ['I00844', 'P00844', '3', '14', 'Antoniotown'], ['I00848', 'P00848', '1', '13', 'Vasquezbury'], ['I00850', 'P00850', '13', '16', 'Lake Anthony'], ['I00859', 'P00859', '1', '15', 'East Zachary'], ['I00870', 'P00870', '8', '16', 'New James'], ['I00871', 'P00871', '5', '17', 'Owensburgh'], ['I00879', 'P00879', '10', '15', 'New Deborahfurt'], ['I00894', 'P00894', '5', '19', 'North Emily'], ['I00906', 'P00906', '14', '15', 'Brownhaven'], ['I00907', 'P00907', '3', '12', 'Vaughnborough'], ['I00909', 'P00909', '10', '20', 'Lake Robin'], ['I00915', 'P00915', '1', '14', 'Ramirezport'], ['I00917', 'P00917', '5', '19', 'North Tinaburgh'], ['I00922', 'P00922', '8', '18', 'North Gregoryside'], ['I00931', 'P00931', '3', '18', 'New Richardview'], ['I00939', 'P00939', '11', '13', 'Michelleport'], ['I00951', 'P00951', '7', '13', 'Dennisport'], ['I00956', 'P00956', '2', '15', 'Tammytown'], ['I00966', 'P00966', '19', '20', 'East Claytonstad'], ['I00973', 'P00973', '6', '17', 'Weberville'], ['I00988', 'P00988', '0', '17', 'Starkhaven'], ['I00990', 'P00990', '10', '14', 'Lisafurt'], ['I00994', 'P00994', '6', '20', 'Trevinoshire']]}\n",
    "messages = create_summary_message(\n",
    "    query_result_example['clarified_task'],\n",
    "    query_result_example['sql_query'],\n",
    "    query_result_example['columns'],\n",
    "    query_result_example['rows']\n",
    ")\n",
    "\n",
    "completion = client.chat.completions.create(\n",
    "    model='gpt-3.5-turbo',\n",
    "    messages=messages\n",
    ")   \n",
    "\n",
    "print(completion.choices[0].message.content)\n"
   ]
  },
  {
   "cell_type": "code",
   "execution_count": 20,
   "metadata": {},
   "outputs": [
    {
     "name": "stdout",
     "output_type": "stream",
     "text": [
      "[{'role': 'system', 'content': 'You are an AI expert who summarizes data.'}, {'role': 'user', 'content': 'Task: Retrieve the first 10 items from the inventory records that have a stock quantity lower than the minimum stock level.\\nSQL Query: SELECT * FROM `toyota_inventory_records` WHERE `current_stock` < `minimum_stock_level` LIMIT 10;\\n\\nResults:\\n| inventory_id | part_id | current_stock | minimum_stock_level | warehouse_location |\\n|---|---|---|---|---|\\n| I00005 | P00005 | 4 | 19 | Port Timothy |\\n| I00021 | P00021 | 8 | 10 | North Jamesfort |\\n| I00025 | P00025 | 18 | 19 | Kimberlyside |\\n| I00028 | P00028 | 1 | 16 | South Anthonyside |\\n| I00031 | P00031 | 15 | 18 | East Jimmy |\\n| I00039 | P00039 | 1 | 11 | Ortizmouth |\\n| I00057 | P00057 | 1 | 10 | East Briannaberg |\\n| I00085 | P00085 | 14 | 16 | New Matthew |\\n| I00089 | P00089 | 5 | 20 | Marcuston |\\n| I00091 | P00091 | 8 | 19 | West Daniel |\\n'}]\n"
     ]
    }
   ],
   "source": [
    "print(messages)"
   ]
  },
  {
   "cell_type": "code",
   "execution_count": null,
   "metadata": {},
   "outputs": [],
   "source": []
  }
 ],
 "metadata": {
  "kernelspec": {
   "display_name": "Python 3 (ipykernel)",
   "language": "python",
   "name": "python3"
  },
  "language_info": {
   "codemirror_mode": {
    "name": "ipython",
    "version": 3
   },
   "file_extension": ".py",
   "mimetype": "text/x-python",
   "name": "python",
   "nbconvert_exporter": "python",
   "pygments_lexer": "ipython3",
   "version": "3.12.2"
  }
 },
 "nbformat": 4,
 "nbformat_minor": 4
}
