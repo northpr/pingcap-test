{
 "cells": [
  {
   "cell_type": "code",
   "execution_count": 55,
   "metadata": {},
   "outputs": [],
   "source": [
    "#default_exp tidb_connect"
   ]
  },
  {
   "cell_type": "code",
   "execution_count": 56,
   "metadata": {},
   "outputs": [],
   "source": [
    "#export\n",
    "import requests\n",
    "import time\n",
    "\n",
    "PUBLIC_KEY = '414VD1N0'\n",
    "PRIVATE_KEY = 'aefec559-36eb-4cd1-b6c3-59fa74303d41'\n",
    "REGION = 'ap-southeast-1'\n",
    "APP_ID = 'WizQVcwy'\n",
    "\n",
    "cluster_id = '10954456779882628977'\n",
    "database = 'toyota_test'"
   ]
  },
  {
   "cell_type": "code",
   "execution_count": 57,
   "metadata": {},
   "outputs": [],
   "source": [
    "#export\n",
    "class Chat2QueryAPI:\n",
    "    def __init__(self, public_key, private_key, region, app_id, cluster_id, database):\n",
    "        self.public_key = public_key\n",
    "        self.private_key = private_key\n",
    "        self.region = region\n",
    "        self.app_id = app_id\n",
    "        self.cluster_id = cluster_id\n",
    "        self.database = database\n",
    "        self.base_url = f'https://{region}.data.tidbcloud.com/api/v1beta/app/chat2query-{app_id}'\n",
    "\n",
    "    def _make_request(self, endpoint, method=\"get\", params=None, json=None):\n",
    "        url = f'{self.base_url}/{endpoint}'\n",
    "        auth = requests.auth.HTTPDigestAuth(self.public_key, self.private_key)\n",
    "        headers = {'Content-Type': 'application/json'}\n",
    "\n",
    "        if method.lower() == \"post\":\n",
    "            response = requests.post(url, auth=auth, headers=headers, json=json)\n",
    "        else:\n",
    "            response = requests.get(url, auth=auth, headers=headers, params=params)\n",
    "\n",
    "        if response.status_code == 200:\n",
    "            return response.json()\n",
    "        else:\n",
    "            return response.text\n",
    "\n",
    "    def post_data_summary(self):\n",
    "        payload = {'cluster_id': self.cluster_id, 'database': self.database}\n",
    "        return self._make_request(\"endpoint/v2/dataSummaries\", \"post\", json=payload)\n",
    "\n",
    "    def get_data_summary(self):\n",
    "        params = {'cluster_id': self.cluster_id, 'database': self.database}\n",
    "        return self._make_request(\"endpoint/v2/dataSummaries\", \"get\", params=params)\n",
    "\n",
    "    def get_job_status(self, job_id):\n",
    "        return self._make_request(f\"endpoint/v2/jobs/{job_id}\")\n",
    "\n",
    "    def execute_sql(self, raw_question):\n",
    "        payload = {'cluster_id': self.cluster_id, 'database': self.database, 'raw_question': raw_question}\n",
    "        return self._make_request(\"endpoint/v2/chat2data\", \"post\", json=payload)\n",
    "\n",
    "    def get_sql_job_result(self, raw_question, full=False):\n",
    "        execution_result = self.execute_sql(raw_question)\n",
    "        job_id = execution_result.get('result', {}).get('job_id')\n",
    "        \n",
    "        if not job_id:\n",
    "            return {\"error\": \"Job ID not found in execution result\"}\n",
    "        print('Generating Result')\n",
    "        time.sleep(10)  # Wait for the job to process\n",
    "        job_status_result = self.get_job_status(job_id)\n",
    "\n",
    "        if full:\n",
    "            return job_status_result\n",
    "        \n",
    "        # Adjusting the structure to match the provided example\n",
    "        job_result = job_status_result.get('result', {}).get('result', {})\n",
    "        task_tree = job_result.get('task_tree', {}).get('0', {})\n",
    "        \n",
    "        simplified_result = {\n",
    "            'clarified_task': task_tree.get('clarified_task', 'Not specified'),\n",
    "            'sql_query': task_tree.get('sql', 'Not specified'),\n",
    "            'columns': [col['col'] for col in task_tree.get('columns', [])] if 'columns' in task_tree else [],\n",
    "            'rows': task_tree.get('rows', []) if 'rows' in task_tree else []\n",
    "        }\n",
    "\n",
    "        return simplified_result\n",
    "    \n",
    "def print_pretty_result(result):\n",
    "    for key, value in result.items():\n",
    "        if isinstance(value, list):  # For 'Columns' and 'Rows'\n",
    "            print(f\"{key}:\")\n",
    "            if key == \"rows\":\n",
    "                for row in value:\n",
    "                    print(\"    \", \", \".join(str(item) for item in row))\n",
    "            else:\n",
    "                print(\"    \", \", \".join(value))\n",
    "        else:\n",
    "            print(f\"{key}: {value}\")"
   ]
  },
  {
   "cell_type": "code",
   "execution_count": 61,
   "metadata": {},
   "outputs": [
    {
     "name": "stdout",
     "output_type": "stream",
     "text": [
      "{'code': 200, 'msg': '', 'result': {'data_summary_id': 279074, 'job_id': '5e50da97ca594e229018e2cfae1c9cea'}}\n"
     ]
    }
   ],
   "source": [
    "api = Chat2QueryAPI('414VD1N0', 'aefec559-36eb-4cd1-b6c3-59fa74303d41', 'ap-southeast-1', 'WizQVcwy', '10954456779882628977', 'toyota_test')\n",
    "print(api.post_data_summary())"
   ]
  },
  {
   "cell_type": "code",
   "execution_count": 62,
   "metadata": {},
   "outputs": [
    {
     "name": "stdout",
     "output_type": "stream",
     "text": [
      "Generating Result\n",
      "{'clarified_task': 'Retrieve the stock of items that are lower than the minimum stock level.', 'sql_query': 'SELECT `part_id`, `current_stock` FROM `toyota_inventory_records` WHERE `current_stock` < `minimum_stock_level`;', 'columns': ['part_id', 'current_stock'], 'rows': [['P00005', '4'], ['P00021', '8'], ['P00025', '18'], ['P00028', '1'], ['P00031', '15'], ['P00039', '1'], ['P00057', '1'], ['P00085', '14'], ['P00089', '5'], ['P00091', '8'], ['P00096', '10'], ['P00103', '8'], ['P00107', '8'], ['P00109', '17'], ['P00112', '11'], ['P00115', '2'], ['P00116', '11'], ['P00125', '10'], ['P00126', '4'], ['P00136', '6'], ['P00161', '0'], ['P00181', '9'], ['P00187', '11'], ['P00188', '6'], ['P00190', '5'], ['P00194', '0'], ['P00195', '4'], ['P00196', '12'], ['P00211', '3'], ['P00218', '1'], ['P00220', '9'], ['P00222', '1'], ['P00223', '7'], ['P00230', '6'], ['P00240', '8'], ['P00242', '1'], ['P00243', '0'], ['P00247', '9'], ['P00251', '3'], ['P00254', '8'], ['P00261', '10'], ['P00278', '4'], ['P00296', '16'], ['P00316', '14'], ['P00318', '3'], ['P00319', '11'], ['P00321', '4'], ['P00335', '17'], ['P00339', '3'], ['P00341', '9'], ['P00347', '13'], ['P00357', '8'], ['P00363', '5'], ['P00382', '5'], ['P00384', '9'], ['P00391', '5'], ['P00401', '2'], ['P00403', '12'], ['P00411', '9'], ['P00423', '9'], ['P00424', '10'], ['P00426', '3'], ['P00427', '9'], ['P00429', '11'], ['P00430', '14'], ['P00439', '5'], ['P00452', '13'], ['P00455', '3'], ['P00460', '0'], ['P00469', '14'], ['P00481', '6'], ['P00482', '3'], ['P00494', '3'], ['P00501', '8'], ['P00505', '15'], ['P00516', '9'], ['P00519', '9'], ['P00522', '17'], ['P00528', '2'], ['P00533', '2'], ['P00534', '9'], ['P00542', '19'], ['P00543', '9'], ['P00544', '3'], ['P00548', '5'], ['P00552', '11'], ['P00562', '8'], ['P00581', '10'], ['P00582', '6'], ['P00585', '8'], ['P00596', '9'], ['P00605', '2'], ['P00614', '3'], ['P00623', '6'], ['P00628', '2'], ['P00630', '6'], ['P00647', '4'], ['P00665', '16'], ['P00667', '8'], ['P00668', '18'], ['P00677', '16'], ['P00682', '8'], ['P00685', '2'], ['P00690', '17'], ['P00692', '2'], ['P00695', '5'], ['P00707', '2'], ['P00709', '0'], ['P00714', '15'], ['P00732', '2'], ['P00736', '18'], ['P00738', '15'], ['P00745', '8'], ['P00750', '11'], ['P00753', '7'], ['P00758', '2'], ['P00765', '14'], ['P00777', '9'], ['P00778', '11'], ['P00809', '0'], ['P00816', '7'], ['P00822', '10'], ['P00844', '3'], ['P00848', '1'], ['P00850', '13'], ['P00859', '1'], ['P00870', '8'], ['P00871', '5'], ['P00879', '10'], ['P00894', '5'], ['P00906', '14'], ['P00907', '3'], ['P00909', '10'], ['P00915', '1'], ['P00917', '5'], ['P00922', '8'], ['P00931', '3'], ['P00939', '11'], ['P00951', '7'], ['P00956', '2'], ['P00966', '19'], ['P00973', '6'], ['P00988', '0'], ['P00990', '10'], ['P00994', '6']]}\n"
     ]
    }
   ],
   "source": [
    "result = api.get_sql_job_result(\"I want to see stock of items that lower than minimum stock\")\n",
    "print(result)"
   ]
  },
  {
   "cell_type": "code",
   "execution_count": null,
   "metadata": {},
   "outputs": [],
   "source": [
    "# def post_data_summary(cluster_id: str, database: str):\n",
    "#     url = f'https://{REGION}.data.tidbcloud.com/api/v1beta/app/chat2query-{APP_ID}/endpoint/v2/dataSummaries'\n",
    "#     auth = requests.auth.HTTPDigestAuth(PUBLIC_KEY, PRIVATE_KEY)\n",
    "#     headers = {'Content-Type': 'application/json'}\n",
    "#     payload = {\n",
    "#         'cluster_id': cluster_id,\n",
    "#         'database': database\n",
    "#     }\n",
    "    \n",
    "#     response = requests.post(url, auth=auth, headers=headers, json=payload)\n",
    "#     if response.status_code == 200:\n",
    "#         return response.json()\n",
    "#     else:\n",
    "#         return response.text\n",
    "    \n",
    "# def get_data_summary(cluster_id: str, database: str):\n",
    "#     url = f'https://{REGION}.data.tidbcloud.com/api/v1beta/app/chat2query-{APP_ID}/endpoint/v2/dataSummaries'\n",
    "#     auth = requests.auth.HTTPDigestAuth(PUBLIC_KEY, PRIVATE_KEY)\n",
    "#     headers = {'Content-Type': 'application/json'}\n",
    "#     params = {\n",
    "#         'cluster_id': cluster_id,\n",
    "#         'database': database\n",
    "#     }\n",
    "    \n",
    "#     response = requests.get(url, auth=auth, headers=headers, params=params)\n",
    "#     if response.status_code == 200:\n",
    "#         return response.json()\n",
    "#     else:\n",
    "#         return response.text\n",
    "\n",
    "\n",
    "# def get_job_status(job_id: str):\n",
    "#     url = f'https://{REGION}.data.tidbcloud.com/api/v1beta/app/chat2query-{APP_ID}/endpoint/v2/jobs/{job_id}'\n",
    "#     auth = requests.auth.HTTPDigestAuth(PUBLIC_KEY, PRIVATE_KEY)\n",
    "#     headers = {'Content-Type': 'application/json'}\n",
    "    \n",
    "#     response = requests.get(url, auth=auth, headers=headers)\n",
    "#     if response.status_code == 200:\n",
    "#         data = response.json()\n",
    "#         result = data.get(\"result\", {})\n",
    "\n",
    "#         # If 'task_tree' is present, format the response accordingly\n",
    "#         if \"task_tree\" in result:\n",
    "#             task_tree = result.get('task_tree', {}).get('0', {})\n",
    "#             task_details = {\n",
    "#                 \"Columns\": task_tree.get('columns', []),\n",
    "#                 \"Rows\": task_tree.get('rows', []),\n",
    "#                 \"SQL\": task_tree.get('sql', 'Not available'),\n",
    "#                 \"Time Elapsed\": result.get('time_elapsed', 'Not available'),\n",
    "#                 \"Status\": result.get('status', 'Not available')\n",
    "#             }\n",
    "#             formatted_response = {\n",
    "#                 \"Code\": data.get('code'),\n",
    "#                 \"Task Tree\": task_details\n",
    "#             }\n",
    "#             return formatted_response\n",
    "#         else:\n",
    "#             # If 'task_tree' is not present, return the original 'result' part of the response\n",
    "#             return {\"Code\": data.get('code'), \"Result\": result}\n",
    "#     else:\n",
    "#         return {\"Error\": response.text, \"Code\": response.status_code}\n",
    "\n",
    "# # Example usage, assuming the 'cluster_id' is defined elsewhere or\n",
    "\n",
    "    \n",
    "# def execute_sql(cluster_id: str, database: str, raw_question: str):\n",
    "#     url = f'https://{REGION}.data.tidbcloud.com/api/v1beta/app/chat2query-{APP_ID}/endpoint/v2/chat2data'\n",
    "#     auth = requests.auth.HTTPDigestAuth(PUBLIC_KEY, PRIVATE_KEY)\n",
    "#     headers = {'Content-Type': 'application/json'}\n",
    "#     payload = {\n",
    "#         'cluster_id': cluster_id,\n",
    "#         'database': database,\n",
    "#         'raw_question': raw_question\n",
    "#     }\n",
    "    \n",
    "#     response = requests.post(url, auth=auth, headers=headers, json=payload)\n",
    "#     if response.status_code == 200:\n",
    "#         return response.json()\n",
    "#     else:\n",
    "#         return response.text\n",
    "    \n",
    "# def get_sql_job_result(cluster_id: str, database: str, raw_question: str, full: bool = False):\n",
    "#     execution_result = execute_sql(cluster_id, database, raw_question)\n",
    "#     job_id = execution_result.get('result', {}).get('job_id')\n",
    "    \n",
    "#     if not job_id:\n",
    "#         return {\"error\": \"Job ID not found in execution result\"}\n",
    "    \n",
    "#     time.sleep(10)  # Wait for the job to process\n",
    "\n",
    "#     job_status_result = get_job_status(job_id)\n",
    "#     if full:\n",
    "#         return job_status_result\n",
    "    \n",
    "#     task_tree = job_status_result.get('Result', {}).get('result', {}).get('task_tree', {}).get('0', {})\n",
    "    \n",
    "#     simplified_result = {\n",
    "#         'Clarified Task': task_tree.get('clarified_task', 'Not specified'),\n",
    "#         'SQL Query': task_tree.get('sql', 'Not specified'),\n",
    "#         'Columns': [col['col'] for col in task_tree.get('columns', [])],\n",
    "#         'Rows': task_tree.get('rows', [])\n",
    "#     }\n",
    "\n",
    "#     return simplified_result\n",
    "\n",
    "# def print_pretty_result(result):\n",
    "#     for key, value in result.items():\n",
    "#         if isinstance(value, list):  # For 'Columns' and 'Rows'\n",
    "#             print(f\"{key}:\")\n",
    "#             if key == \"Rows\":\n",
    "#                 # Assuming you want a tabular-like print for rows\n",
    "#                 for row in value:\n",
    "#                     print(\"    \", \", \".join(str(item) for item in row))\n",
    "#             else:\n",
    "#                 # Simply print the list items for 'Columns'\n",
    "#                 print(\"    \", \", \".join(value))\n",
    "#         else:\n",
    "#             print(f\"{key}: {value}\")\n"
   ]
  },
  {
   "cell_type": "code",
   "execution_count": null,
   "metadata": {},
   "outputs": [
    {
     "name": "stdout",
     "output_type": "stream",
     "text": [
      "{'code': 200, 'msg': '', 'result': {'data_summary_id': 277707, 'job_id': '1728dc3e5ca44b1797583e1806749547'}}\n"
     ]
    }
   ],
   "source": [
    "# Usage example\n",
    "\n",
    "result = api.post_data_summary()\n",
    "print(result)\n"
   ]
  },
  {
   "cell_type": "code",
   "execution_count": null,
   "metadata": {},
   "outputs": [
    {
     "name": "stdout",
     "output_type": "stream",
     "text": [
      "{'code': 200, 'msg': '', 'result': {'ended_at': 1711395957, 'job_id': '1728dc3e5ca44b1797583e1806749547', 'reason': '', 'result': None, 'status': 'done'}}\n"
     ]
    }
   ],
   "source": [
    "# Example usage\n",
    "job_id = '1728dc3e5ca44b1797583e1806749547'\n",
    "result = api.get_job_status(job_id)\n",
    "print(result)"
   ]
  },
  {
   "cell_type": "code",
   "execution_count": null,
   "metadata": {},
   "outputs": [
    {
     "name": "stdout",
     "output_type": "stream",
     "text": [
      "{'code': 200, 'msg': '', 'result': {'data_summary_id': 277707, 'status': 'done'}}\n"
     ]
    }
   ],
   "source": [
    "result = get_data_summary(cluster_id, database)\n",
    "print(result)"
   ]
  },
  {
   "cell_type": "code",
   "execution_count": null,
   "metadata": {},
   "outputs": [
    {
     "name": "stdout",
     "output_type": "stream",
     "text": [
      "{'code': 200, 'msg': '', 'result': {'data_summary_id': 277707, 'job_id': 'd7ad96db70b84d2d9e9f7c649fa02c1d', 'session_context_id': 277870, 'session_id': '30db9a20663d420ab396727924007d48'}}\n"
     ]
    }
   ],
   "source": [
    "result = execute_sql(cluster_id, database, \"I want to see the average rating in the past 10 months\")\n",
    "print(result)"
   ]
  },
  {
   "cell_type": "code",
   "execution_count": null,
   "metadata": {},
   "outputs": [
    {
     "name": "stdout",
     "output_type": "stream",
     "text": [
      "{'Code': 200, 'Result': {'ended_at': 1711351433, 'job_id': 'd7ad96db70b84d2d9e9f7c649fa02c1d', 'reason': '', 'result': {'question_id': '26db060e-9163-4f77-b6d2-493146d6f988', 'raw_question': 'I want to see the average rating in the past 10 months', 'session_context_id': 277870, 'task_tree': {'0': {'assumptions': [], 'breakdown_type': 'Resolve', 'chartOptions': {}, 'clarified_task': 'Find the average rating in the past 10 months.', 'columns': [{'col': 'average_rating'}], 'description': '', 'level': 0, 'parent_task': '', 'parent_task_id': '', 'possibleExplanations': '', 'reason': 'no proxy needed for task', 'recommendations': {}, 'rows': [['3.0676']], 'sequence_no': 0, 'sql': 'SELECT AVG(`rating`) AS `average_rating` FROM `customer_feedback` WHERE `feedback_date` >= DATE_SUB(CURDATE(), INTERVAL 10 MONTH);', 'task': 'I want to see the average rating in the past 10 months', 'task_id': '0'}}, 'time_elapsed': 7.987234354019165}, 'status': 'done'}}\n"
     ]
    }
   ],
   "source": [
    "result = get_job_status('d7ad96db70b84d2d9e9f7c649fa02c1d')\n",
    "print(result)"
   ]
  },
  {
   "cell_type": "code",
   "execution_count": null,
   "metadata": {},
   "outputs": [],
   "source": [
    "raw_question ='I want to see the average rating in the past 10 months by month'\n",
    "result = get_sql_job_result(cluster_id, database, raw_question)"
   ]
  },
  {
   "cell_type": "code",
   "execution_count": null,
   "metadata": {},
   "outputs": [
    {
     "name": "stdout",
     "output_type": "stream",
     "text": [
      "Clarified Task: Retrieve the average rating in the past 10 months by month.\n",
      "SQL Query: SELECT MONTH(`feedback_date`) AS `month`, AVG(`rating`) AS `average_rating` FROM `customer_feedback` WHERE `feedback_date` >= DATE_SUB(CURDATE(), INTERVAL 10 MONTH) GROUP BY MONTH(`feedback_date`);\n",
      "Columns:\n",
      "     month, average_rating\n",
      "Rows:\n",
      "     12, 3.0571\n",
      "     9, 3.2766\n",
      "     2, 2.8372\n",
      "     10, 3.0667\n",
      "     7, 3.4211\n",
      "     8, 3.1064\n",
      "     6, 3.1923\n",
      "     3, 2.7143\n",
      "     11, 3.0000\n",
      "     1, 2.8333\n",
      "     5, 3.2000\n"
     ]
    }
   ],
   "source": [
    "print_pretty_result(result)"
   ]
  },
  {
   "cell_type": "markdown",
   "metadata": {},
   "source": [
    "{'Code': 200, 'Result': {'ended_at': 1711394028, 'job_id': 'd574d04888b445d3b5d132b3f8d7876f', 'reason': '', 'result': {'question_id': '967d9ed6-fbf5-4305-ad11-217f06721158', 'raw_question': 'I want to see the average rating in the past 10 months by month', 'session_context_id': 278043, 'task_tree': {'0': {'assumptions': [], 'breakdown_type': 'Resolve', 'chartOptions': {}, 'clarified_task': 'Retrieve the average rating in the past 10 months by month.', 'columns': [{'col': 'month'}, {'col': 'average_rating'}], 'description': '', 'level': 0, 'parent_task': '', 'parent_task_id': '', 'possibleExplanations': '', 'reason': 'no proxy needed for task', 'recommendations': {}, 'rows': [['2', '2.8372'], ['9', '3.2766'], ['12', '3.0571'], ['1', '2.8333'], ['11', '3.0000'], ['5', '3.2000'], ['10', '3.0667'], ['3', '2.7143'], ['7', '3.4211'], ['8', '3.1064'], ['6', '3.1923']], 'sequence_no': 0, 'sql': 'SELECT MONTH(`feedback_date`) AS `month`, AVG(`rating`) AS `average_rating` FROM `customer_feedback` WHERE `feedback_date` >= DATE_SUB(CURDATE(), INTERVAL 10 MONTH) GROUP BY MONTH(`feedback_date`);', 'task': 'I want to see the average rating in the past 10 months by month', 'task_id': '0'}}, 'time_elapsed': 5.93340539932251}, 'status': 'done'}}"
   ]
  },
  {
   "cell_type": "code",
   "execution_count": null,
   "metadata": {},
   "outputs": [
    {
     "name": "stderr",
     "output_type": "stream",
     "text": [
      "UsageError: Line magic function `%md` not found.\n"
     ]
    }
   ],
   "source": [
    "%md\n"
   ]
  },
  {
   "cell_type": "code",
   "execution_count": null,
   "metadata": {},
   "outputs": [],
   "source": []
  }
 ],
 "metadata": {
  "kernelspec": {
   "display_name": "pingcap-test",
   "language": "python",
   "name": "python3"
  }
 },
 "nbformat": 4,
 "nbformat_minor": 2
}
