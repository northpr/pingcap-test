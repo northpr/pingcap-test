{
 "cells": [
  {
   "cell_type": "code",
   "execution_count": 7,
   "metadata": {},
   "outputs": [],
   "source": [
    "import requests\n",
    "import time\n",
    "\n",
    "PUBLIC_KEY = '414Vxxx0'\n",
    "PRIVATE_KEY = 'aefexxx1-b6c3-59fa74303d41'\n",
    "REGION = 'ap-southeast-1'\n",
    "APP_ID = 'Wizxxxwy'\n",
    "\n",
    "cluster_id = '1095xxx882628977'\n",
    "database = 'xxxxxx'"
   ]
  },
  {
   "cell_type": "code",
   "execution_count": 37,
   "metadata": {},
   "outputs": [],
   "source": [
    "class Chat2QueryAPI:\n",
    "    def __init__(self, public_key, private_key, region, app_id, cluster_id, database):\n",
    "        self.public_key = public_key\n",
    "        self.private_key = private_key\n",
    "        self.region = region\n",
    "        self.app_id = app_id\n",
    "        self.cluster_id = cluster_id\n",
    "        self.database = database\n",
    "        self.base_url = f'https://{region}.data.tidbcloud.com/api/v1beta/app/chat2query-{app_id}'\n",
    "\n",
    "    def _make_request(self, endpoint, method=\"get\", params=None, json=None):\n",
    "        url = f'{self.base_url}/{endpoint}'\n",
    "        auth = requests.auth.HTTPDigestAuth(self.public_key, self.private_key)\n",
    "        headers = {'Content-Type': 'application/json'}\n",
    "\n",
    "        if method.lower() == \"post\":\n",
    "            response = requests.post(url, auth=auth, headers=headers, json=json)\n",
    "        else:\n",
    "            response = requests.get(url, auth=auth, headers=headers, params=params)\n",
    "\n",
    "        if response.status_code == 200:\n",
    "            return response.json()\n",
    "        else:\n",
    "            return response.text\n",
    "\n",
    "    def post_data_summary(self):\n",
    "        payload = {'cluster_id': self.cluster_id, 'database': self.database}\n",
    "        return self._make_request(\"endpoint/v2/dataSummaries\", \"post\", json=payload)\n",
    "\n",
    "    def get_data_summary(self):\n",
    "        params = {'cluster_id': self.cluster_id, 'database': self.database}\n",
    "        return self._make_request(\"endpoint/v2/dataSummaries\", \"get\", params=params)\n",
    "\n",
    "    def get_job_status(self, job_id):\n",
    "        return self._make_request(f\"endpoint/v2/jobs/{job_id}\")\n",
    "\n",
    "    def execute_sql(self, raw_question):\n",
    "        payload = {'cluster_id': self.cluster_id, 'database': self.database, 'raw_question': raw_question}\n",
    "        return self._make_request(\"endpoint/v2/chat2data\", \"post\", json=payload)\n",
    "\n",
    "    def get_sql_job_result(self, raw_question, full=False):\n",
    "        execution_result = self.execute_sql(raw_question)\n",
    "        job_id = execution_result.get('result', {}).get('job_id')\n",
    "        \n",
    "        if not job_id:\n",
    "            return {\"error\": \"Job ID not found in execution result\"}\n",
    "        \n",
    "        time.sleep(10)  # Wait for the job to process\n",
    "        job_status_result = self.get_job_status(job_id)\n",
    "\n",
    "        if full:\n",
    "            return job_status_result\n",
    "        \n",
    "        # Adjusting the structure to match the provided example\n",
    "        job_result = job_status_result.get('result', {}).get('result', {})\n",
    "        task_tree = job_result.get('task_tree', {}).get('0', {})\n",
    "        \n",
    "        simplified_result = {\n",
    "            'clarified_task': task_tree.get('clarified_task', 'Not specified'),\n",
    "            'sql_query': task_tree.get('sql', 'Not specified'),\n",
    "            'columns': [col['col'] for col in task_tree.get('columns', [])] if 'columns' in task_tree else [],\n",
    "            'rows': task_tree.get('rows', []) if 'rows' in task_tree else []\n",
    "        }\n",
    "\n",
    "        return simplified_result\n",
    "    \n",
    "def print_pretty_result(result):\n",
    "    for key, value in result.items():\n",
    "        if isinstance(value, list):  # For 'Columns' and 'Rows'\n",
    "            print(f\"{key}:\")\n",
    "            if key == \"rows\":\n",
    "                # Assuming you want a tabular-like print for rows\n",
    "                for row in value:\n",
    "                    print(\"    \", \", \".join(str(item) for item in row))\n",
    "            else:\n",
    "                # Print the list items for 'Columns'\n",
    "                print(\"    \", \", \".join(value))\n",
    "        else:\n",
    "            print(f\"{key}: {value}\")"
   ]
  },
  {
   "cell_type": "code",
   "execution_count": 40,
   "metadata": {},
   "outputs": [
    {
     "name": "stdout",
     "output_type": "stream",
     "text": [
      "{'clarified_task': 'Find the average rating in the past 10 months by month.', 'sql_query': 'SELECT MONTH(`feedback_date`) AS `month`, AVG(`rating`) AS `average_rating` FROM `customer_feedback` WHERE `feedback_date` >= DATE_SUB(CURDATE(), INTERVAL 10 MONTH) GROUP BY MONTH(`feedback_date`);', 'columns': ['month', 'average_rating'], 'rows': [['12', '3.0571'], ['2', '2.8372'], ['9', '3.2766'], ['7', '3.4211'], ['6', '3.1923'], ['8', '3.1064'], ['10', '3.0667'], ['11', '3.0000'], ['1', '2.8333'], ['5', '3.2000'], ['3', '2.7143']]}\n"
     ]
    }
   ],
   "source": [
    "api = Chat2QueryAPI('414VD1N0', 'aefec559-36eb-4cd1-b6c3-59fa74303d41', 'ap-southeast-1', 'WizQVcwy', '10954456779882628977', 'test')\n",
    "result = api.get_sql_job_result(\"I want to see the average rating in the past 10 months by monthly\")\n",
    "print(result)"
   ]
  },
  {
   "cell_type": "code",
   "execution_count": 41,
   "metadata": {},
   "outputs": [
    {
     "name": "stdout",
     "output_type": "stream",
     "text": [
      "clarified_task: Find the average rating in the past 10 months by month.\n",
      "sql_query: SELECT MONTH(`feedback_date`) AS `month`, AVG(`rating`) AS `average_rating` FROM `customer_feedback` WHERE `feedback_date` >= DATE_SUB(CURDATE(), INTERVAL 10 MONTH) GROUP BY MONTH(`feedback_date`);\n",
      "columns:\n",
      "     month, average_rating\n",
      "rows:\n",
      "     12, 3.0571\n",
      "     2, 2.8372\n",
      "     9, 3.2766\n",
      "     7, 3.4211\n",
      "     6, 3.1923\n",
      "     8, 3.1064\n",
      "     10, 3.0667\n",
      "     11, 3.0000\n",
      "     1, 2.8333\n",
      "     5, 3.2000\n",
      "     3, 2.7143\n"
     ]
    }
   ],
   "source": [
    "print_pretty_result(result)"
   ]
  },
  {
   "cell_type": "code",
   "execution_count": 26,
   "metadata": {},
   "outputs": [],
   "source": [
    "# def post_data_summary(cluster_id: str, database: str):\n",
    "#     url = f'https://{REGION}.data.tidbcloud.com/api/v1beta/app/chat2query-{APP_ID}/endpoint/v2/dataSummaries'\n",
    "#     auth = requests.auth.HTTPDigestAuth(PUBLIC_KEY, PRIVATE_KEY)\n",
    "#     headers = {'Content-Type': 'application/json'}\n",
    "#     payload = {\n",
    "#         'cluster_id': cluster_id,\n",
    "#         'database': database\n",
    "#     }\n",
    "    \n",
    "#     response = requests.post(url, auth=auth, headers=headers, json=payload)\n",
    "#     if response.status_code == 200:\n",
    "#         return response.json()\n",
    "#     else:\n",
    "#         return response.text\n",
    "    \n",
    "# def get_data_summary(cluster_id: str, database: str):\n",
    "#     url = f'https://{REGION}.data.tidbcloud.com/api/v1beta/app/chat2query-{APP_ID}/endpoint/v2/dataSummaries'\n",
    "#     auth = requests.auth.HTTPDigestAuth(PUBLIC_KEY, PRIVATE_KEY)\n",
    "#     headers = {'Content-Type': 'application/json'}\n",
    "#     params = {\n",
    "#         'cluster_id': cluster_id,\n",
    "#         'database': database\n",
    "#     }\n",
    "    \n",
    "#     response = requests.get(url, auth=auth, headers=headers, params=params)\n",
    "#     if response.status_code == 200:\n",
    "#         return response.json()\n",
    "#     else:\n",
    "#         return response.text\n",
    "\n",
    "\n",
    "# def get_job_status(job_id: str):\n",
    "#     url = f'https://{REGION}.data.tidbcloud.com/api/v1beta/app/chat2query-{APP_ID}/endpoint/v2/jobs/{job_id}'\n",
    "#     auth = requests.auth.HTTPDigestAuth(PUBLIC_KEY, PRIVATE_KEY)\n",
    "#     headers = {'Content-Type': 'application/json'}\n",
    "    \n",
    "#     response = requests.get(url, auth=auth, headers=headers)\n",
    "#     if response.status_code == 200:\n",
    "#         data = response.json()\n",
    "#         result = data.get(\"result\", {})\n",
    "\n",
    "#         # If 'task_tree' is present, format the response accordingly\n",
    "#         if \"task_tree\" in result:\n",
    "#             task_tree = result.get('task_tree', {}).get('0', {})\n",
    "#             task_details = {\n",
    "#                 \"Columns\": task_tree.get('columns', []),\n",
    "#                 \"Rows\": task_tree.get('rows', []),\n",
    "#                 \"SQL\": task_tree.get('sql', 'Not available'),\n",
    "#                 \"Time Elapsed\": result.get('time_elapsed', 'Not available'),\n",
    "#                 \"Status\": result.get('status', 'Not available')\n",
    "#             }\n",
    "#             formatted_response = {\n",
    "#                 \"Code\": data.get('code'),\n",
    "#                 \"Task Tree\": task_details\n",
    "#             }\n",
    "#             return formatted_response\n",
    "#         else:\n",
    "#             # If 'task_tree' is not present, return the original 'result' part of the response\n",
    "#             return {\"Code\": data.get('code'), \"Result\": result}\n",
    "#     else:\n",
    "#         return {\"Error\": response.text, \"Code\": response.status_code}\n",
    "\n",
    "# # Example usage, assuming the 'cluster_id' is defined elsewhere or\n",
    "\n",
    "    \n",
    "# def execute_sql(cluster_id: str, database: str, raw_question: str):\n",
    "#     url = f'https://{REGION}.data.tidbcloud.com/api/v1beta/app/chat2query-{APP_ID}/endpoint/v2/chat2data'\n",
    "#     auth = requests.auth.HTTPDigestAuth(PUBLIC_KEY, PRIVATE_KEY)\n",
    "#     headers = {'Content-Type': 'application/json'}\n",
    "#     payload = {\n",
    "#         'cluster_id': cluster_id,\n",
    "#         'database': database,\n",
    "#         'raw_question': raw_question\n",
    "#     }\n",
    "    \n",
    "#     response = requests.post(url, auth=auth, headers=headers, json=payload)\n",
    "#     if response.status_code == 200:\n",
    "#         return response.json()\n",
    "#     else:\n",
    "#         return response.text\n",
    "    \n",
    "# def get_sql_job_result(cluster_id: str, database: str, raw_question: str, full: bool = False):\n",
    "#     execution_result = execute_sql(cluster_id, database, raw_question)\n",
    "#     job_id = execution_result.get('result', {}).get('job_id')\n",
    "    \n",
    "#     if not job_id:\n",
    "#         return {\"error\": \"Job ID not found in execution result\"}\n",
    "    \n",
    "#     time.sleep(10)  # Wait for the job to process\n",
    "\n",
    "#     job_status_result = get_job_status(job_id)\n",
    "#     if full:\n",
    "#         return job_status_result\n",
    "    \n",
    "#     task_tree = job_status_result.get('Result', {}).get('result', {}).get('task_tree', {}).get('0', {})\n",
    "    \n",
    "#     simplified_result = {\n",
    "#         'Clarified Task': task_tree.get('clarified_task', 'Not specified'),\n",
    "#         'SQL Query': task_tree.get('sql', 'Not specified'),\n",
    "#         'Columns': [col['col'] for col in task_tree.get('columns', [])],\n",
    "#         'Rows': task_tree.get('rows', [])\n",
    "#     }\n",
    "\n",
    "#     return simplified_result\n",
    "\n",
    "# def print_pretty_result(result):\n",
    "#     for key, value in result.items():\n",
    "#         if isinstance(value, list):  # For 'Columns' and 'Rows'\n",
    "#             print(f\"{key}:\")\n",
    "#             if key == \"Rows\":\n",
    "#                 # Assuming you want a tabular-like print for rows\n",
    "#                 for row in value:\n",
    "#                     print(\"    \", \", \".join(str(item) for item in row))\n",
    "#             else:\n",
    "#                 # Simply print the list items for 'Columns'\n",
    "#                 print(\"    \", \", \".join(value))\n",
    "#         else:\n",
    "#             print(f\"{key}: {value}\")\n"
   ]
  },
  {
   "cell_type": "code",
   "execution_count": 43,
   "metadata": {},
   "outputs": [
    {
     "name": "stdout",
     "output_type": "stream",
     "text": [
      "{'code': 200, 'msg': '', 'result': {'data_summary_id': 277707, 'job_id': '1728dc3e5ca44b1797583e1806749547'}}\n"
     ]
    }
   ],
   "source": [
    "# Usage example\n",
    "\n",
    "result = api.post_data_summary()\n",
    "print(result)\n"
   ]
  },
  {
   "cell_type": "code",
   "execution_count": 44,
   "metadata": {},
   "outputs": [
    {
     "name": "stdout",
     "output_type": "stream",
     "text": [
      "{'code': 200, 'msg': '', 'result': {'ended_at': 1711395957, 'job_id': '1728dc3e5ca44b1797583e1806749547', 'reason': '', 'result': None, 'status': 'done'}}\n"
     ]
    }
   ],
   "source": [
    "# Example usage\n",
    "job_id = '1728dc3e5ca44b1797583e1806749547'\n",
    "result = api.get_job_status(job_id)\n",
    "print(result)"
   ]
  },
  {
   "cell_type": "code",
   "execution_count": 50,
   "metadata": {},
   "outputs": [
    {
     "name": "stdout",
     "output_type": "stream",
     "text": [
      "{'code': 200, 'msg': '', 'result': {'data_summary_id': 277707, 'status': 'done'}}\n"
     ]
    }
   ],
   "source": [
    "result = get_data_summary(cluster_id, database)\n",
    "print(result)"
   ]
  },
  {
   "cell_type": "code",
   "execution_count": 81,
   "metadata": {},
   "outputs": [
    {
     "name": "stdout",
     "output_type": "stream",
     "text": [
      "{'code': 200, 'msg': '', 'result': {'data_summary_id': 277707, 'job_id': 'd7ad96db70b84d2d9e9f7c649fa02c1d', 'session_context_id': 277870, 'session_id': '30db9a20663d420ab396727924007d48'}}\n"
     ]
    }
   ],
   "source": [
    "result = execute_sql(cluster_id, database, \"I want to see the average rating in the past 10 months\")\n",
    "print(result)"
   ]
  },
  {
   "cell_type": "code",
   "execution_count": 93,
   "metadata": {},
   "outputs": [
    {
     "name": "stdout",
     "output_type": "stream",
     "text": [
      "{'Code': 200, 'Result': {'ended_at': 1711351433, 'job_id': 'd7ad96db70b84d2d9e9f7c649fa02c1d', 'reason': '', 'result': {'question_id': '26db060e-9163-4f77-b6d2-493146d6f988', 'raw_question': 'I want to see the average rating in the past 10 months', 'session_context_id': 277870, 'task_tree': {'0': {'assumptions': [], 'breakdown_type': 'Resolve', 'chartOptions': {}, 'clarified_task': 'Find the average rating in the past 10 months.', 'columns': [{'col': 'average_rating'}], 'description': '', 'level': 0, 'parent_task': '', 'parent_task_id': '', 'possibleExplanations': '', 'reason': 'no proxy needed for task', 'recommendations': {}, 'rows': [['3.0676']], 'sequence_no': 0, 'sql': 'SELECT AVG(`rating`) AS `average_rating` FROM `customer_feedback` WHERE `feedback_date` >= DATE_SUB(CURDATE(), INTERVAL 10 MONTH);', 'task': 'I want to see the average rating in the past 10 months', 'task_id': '0'}}, 'time_elapsed': 7.987234354019165}, 'status': 'done'}}\n"
     ]
    }
   ],
   "source": [
    "result = get_job_status('d7ad96db70b84d2d9e9f7c649fa02c1d')\n",
    "print(result)"
   ]
  },
  {
   "cell_type": "code",
   "execution_count": 23,
   "metadata": {},
   "outputs": [],
   "source": [
    "raw_question ='I want to see the average rating in the past 10 months by month'\n",
    "result = get_sql_job_result(cluster_id, database, raw_question)"
   ]
  },
  {
   "cell_type": "code",
   "execution_count": 28,
   "metadata": {},
   "outputs": [
    {
     "name": "stdout",
     "output_type": "stream",
     "text": [
      "Clarified Task: Retrieve the average rating in the past 10 months by month.\n",
      "SQL Query: SELECT MONTH(`feedback_date`) AS `month`, AVG(`rating`) AS `average_rating` FROM `customer_feedback` WHERE `feedback_date` >= DATE_SUB(CURDATE(), INTERVAL 10 MONTH) GROUP BY MONTH(`feedback_date`);\n",
      "Columns:\n",
      "     month, average_rating\n",
      "Rows:\n",
      "     12, 3.0571\n",
      "     9, 3.2766\n",
      "     2, 2.8372\n",
      "     10, 3.0667\n",
      "     7, 3.4211\n",
      "     8, 3.1064\n",
      "     6, 3.1923\n",
      "     3, 2.7143\n",
      "     11, 3.0000\n",
      "     1, 2.8333\n",
      "     5, 3.2000\n"
     ]
    }
   ],
   "source": [
    "print_pretty_result(result)"
   ]
  },
  {
   "cell_type": "markdown",
   "metadata": {},
   "source": [
    "{'Code': 200, 'Result': {'ended_at': 1711394028, 'job_id': 'd574d04888b445d3b5d132b3f8d7876f', 'reason': '', 'result': {'question_id': '967d9ed6-fbf5-4305-ad11-217f06721158', 'raw_question': 'I want to see the average rating in the past 10 months by month', 'session_context_id': 278043, 'task_tree': {'0': {'assumptions': [], 'breakdown_type': 'Resolve', 'chartOptions': {}, 'clarified_task': 'Retrieve the average rating in the past 10 months by month.', 'columns': [{'col': 'month'}, {'col': 'average_rating'}], 'description': '', 'level': 0, 'parent_task': '', 'parent_task_id': '', 'possibleExplanations': '', 'reason': 'no proxy needed for task', 'recommendations': {}, 'rows': [['2', '2.8372'], ['9', '3.2766'], ['12', '3.0571'], ['1', '2.8333'], ['11', '3.0000'], ['5', '3.2000'], ['10', '3.0667'], ['3', '2.7143'], ['7', '3.4211'], ['8', '3.1064'], ['6', '3.1923']], 'sequence_no': 0, 'sql': 'SELECT MONTH(`feedback_date`) AS `month`, AVG(`rating`) AS `average_rating` FROM `customer_feedback` WHERE `feedback_date` >= DATE_SUB(CURDATE(), INTERVAL 10 MONTH) GROUP BY MONTH(`feedback_date`);', 'task': 'I want to see the average rating in the past 10 months by month', 'task_id': '0'}}, 'time_elapsed': 5.93340539932251}, 'status': 'done'}}"
   ]
  },
  {
   "cell_type": "code",
   "execution_count": 15,
   "metadata": {},
   "outputs": [
    {
     "name": "stderr",
     "output_type": "stream",
     "text": [
      "UsageError: Line magic function `%md` not found.\n"
     ]
    }
   ],
   "source": [
    "%md\n"
   ]
  },
  {
   "cell_type": "code",
   "execution_count": null,
   "metadata": {},
   "outputs": [],
   "source": []
  }
 ],
 "metadata": {
  "kernelspec": {
   "display_name": "pingcap-test",
   "language": "python",
   "name": "python3"
  },
  "language_info": {
   "codemirror_mode": {
    "name": "ipython",
    "version": 3
   },
   "file_extension": ".py",
   "mimetype": "text/x-python",
   "name": "python",
   "nbconvert_exporter": "python",
   "pygments_lexer": "ipython3",
   "version": "3.12.2"
  }
 },
 "nbformat": 4,
 "nbformat_minor": 2
}
