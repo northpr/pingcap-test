{
 "cells": [
  {
   "cell_type": "code",
   "execution_count": 20,
   "metadata": {},
   "outputs": [],
   "source": [
    "import requests\n",
    "\n",
    "PUBLIC_KEY = 'sdN0'\n",
    "PRIVATE_KEY = 'aefec5fdsfb-4cd1-b6c3-59fa74303d41'\n",
    "REGION = 'ap-southeast-1'\n",
    "APP_ID = 'Wifdsawy'"
   ]
  },
  {
   "cell_type": "code",
   "execution_count": 91,
   "metadata": {},
   "outputs": [],
   "source": [
    "def post_data_summary(cluster_id: str, database: str):\n",
    "    url = f'https://{REGION}.data.tidbcloud.com/api/v1beta/app/chat2query-{APP_ID}/endpoint/v2/dataSummaries'\n",
    "    auth = requests.auth.HTTPDigestAuth(PUBLIC_KEY, PRIVATE_KEY)\n",
    "    headers = {'Content-Type': 'application/json'}\n",
    "    payload = {\n",
    "        'cluster_id': cluster_id,\n",
    "        'database': database\n",
    "    }\n",
    "    \n",
    "    response = requests.post(url, auth=auth, headers=headers, json=payload)\n",
    "    if response.status_code == 200:\n",
    "        return response.json()\n",
    "    else:\n",
    "        return response.text\n",
    "    \n",
    "def get_data_summary(cluster_id: str, database: str):\n",
    "    url = f'https://{REGION}.data.tidbcloud.com/api/v1beta/app/chat2query-{APP_ID}/endpoint/v2/dataSummaries'\n",
    "    auth = requests.auth.HTTPDigestAuth(PUBLIC_KEY, PRIVATE_KEY)\n",
    "    headers = {'Content-Type': 'application/json'}\n",
    "    params = {\n",
    "        'cluster_id': cluster_id,\n",
    "        'database': database\n",
    "    }\n",
    "    \n",
    "    response = requests.get(url, auth=auth, headers=headers, params=params)\n",
    "    if response.status_code == 200:\n",
    "        return response.json()\n",
    "    else:\n",
    "        return response.text\n",
    "\n",
    "\n",
    "def get_job_status(job_id: str):\n",
    "    url = f'https://{REGION}.data.tidbcloud.com/api/v1beta/app/chat2query-{APP_ID}/endpoint/v2/jobs/{job_id}'\n",
    "    auth = requests.auth.HTTPDigestAuth(PUBLIC_KEY, PRIVATE_KEY)\n",
    "    headers = {'Content-Type': 'application/json'}\n",
    "    \n",
    "    response = requests.get(url, auth=auth, headers=headers)\n",
    "    if response.status_code == 200:\n",
    "        data = response.json()\n",
    "        result = data.get(\"result\", {})\n",
    "\n",
    "        # If 'task_tree' is present, format the response accordingly\n",
    "        if \"task_tree\" in result:\n",
    "            task_tree = result.get('task_tree', {}).get('0', {})\n",
    "            task_details = {\n",
    "                \"Columns\": task_tree.get('columns', []),\n",
    "                \"Rows\": task_tree.get('rows', []),\n",
    "                \"SQL\": task_tree.get('sql', 'Not available'),\n",
    "                \"Time Elapsed\": result.get('time_elapsed', 'Not available'),\n",
    "                \"Status\": result.get('status', 'Not available')\n",
    "            }\n",
    "            formatted_response = {\n",
    "                \"Code\": data.get('code'),\n",
    "                \"Task Tree\": task_details\n",
    "            }\n",
    "            return formatted_response\n",
    "        else:\n",
    "            # If 'task_tree' is not present, return the original 'result' part of the response\n",
    "            return {\"Code\": data.get('code'), \"Result\": result}\n",
    "    else:\n",
    "        return {\"Error\": response.text, \"Code\": response.status_code}\n",
    "\n",
    "# Example usage, assuming the 'cluster_id' is defined elsewhere or\n",
    "\n",
    "    \n",
    "def execute_sql(cluster_id: str, database: str, raw_question: str):\n",
    "    url = f'https://{REGION}.data.tidbcloud.com/api/v1beta/app/chat2query-{APP_ID}/endpoint/v2/chat2data'\n",
    "    auth = requests.auth.HTTPDigestAuth(PUBLIC_KEY, PRIVATE_KEY)\n",
    "    headers = {'Content-Type': 'application/json'}\n",
    "    payload = {\n",
    "        'cluster_id': cluster_id,\n",
    "        'database': database,\n",
    "        'raw_question': raw_question\n",
    "    }\n",
    "    \n",
    "    response = requests.post(url, auth=auth, headers=headers, json=payload)\n",
    "    if response.status_code == 200:\n",
    "        return response.json()\n",
    "    else:\n",
    "        return response.text\n"
   ]
  },
  {
   "cell_type": "code",
   "execution_count": 70,
   "metadata": {},
   "outputs": [
    {
     "name": "stdout",
     "output_type": "stream",
     "text": [
      "{'code': 200, 'msg': '', 'result': {'data_summary_id': 277707, 'job_id': 'e0255b15c03b4b6bb3c69a4773d23d6d'}}\n"
     ]
    }
   ],
   "source": [
    "# Usage example\n",
    "cluster_id = '10954456779882628977'\n",
    "database = 'test'\n",
    "result = post_data_summary(cluster_id, database)\n",
    "print(result)\n"
   ]
  },
  {
   "cell_type": "code",
   "execution_count": 92,
   "metadata": {},
   "outputs": [
    {
     "name": "stdout",
     "output_type": "stream",
     "text": [
      "{'Code': 200, 'Result': {'ended_at': 1711351186, 'job_id': 'e0255b15c03b4b6bb3c69a4773d23d6d', 'reason': '', 'result': None, 'status': 'done'}}\n"
     ]
    }
   ],
   "source": [
    "# Example usage\n",
    "job_id = 'e0255b15c03b4b6bb3c69a4773d23d6d'\n",
    "result = get_job_status(job_id)\n",
    "print(result)"
   ]
  },
  {
   "cell_type": "code",
   "execution_count": 50,
   "metadata": {},
   "outputs": [
    {
     "name": "stdout",
     "output_type": "stream",
     "text": [
      "{'code': 200, 'msg': '', 'result': {'data_summary_id': 277707, 'status': 'done'}}\n"
     ]
    }
   ],
   "source": [
    "result = get_data_summary(cluster_id, database)\n",
    "print(result)"
   ]
  },
  {
   "cell_type": "code",
   "execution_count": 81,
   "metadata": {},
   "outputs": [
    {
     "name": "stdout",
     "output_type": "stream",
     "text": [
      "{'code': 200, 'msg': '', 'result': {'data_summary_id': 277707, 'job_id': 'd7ad96db70b84d2d9e9f7c649fa02c1d', 'session_context_id': 277870, 'session_id': '30db9a20663d420ab396727924007d48'}}\n"
     ]
    }
   ],
   "source": [
    "result = execute_sql(cluster_id, database, \"I want to see the average rating in the past 10 months\")\n",
    "print(result)"
   ]
  },
  {
   "cell_type": "code",
   "execution_count": null,
   "metadata": {},
   "outputs": [],
   "source": []
  },
  {
   "cell_type": "code",
   "execution_count": 93,
   "metadata": {},
   "outputs": [
    {
     "name": "stdout",
     "output_type": "stream",
     "text": [
      "{'Code': 200, 'Result': {'ended_at': 1711351433, 'job_id': 'd7ad96db70b84d2d9e9f7c649fa02c1d', 'reason': '', 'result': {'question_id': '26db060e-9163-4f77-b6d2-493146d6f988', 'raw_question': 'I want to see the average rating in the past 10 months', 'session_context_id': 277870, 'task_tree': {'0': {'assumptions': [], 'breakdown_type': 'Resolve', 'chartOptions': {}, 'clarified_task': 'Find the average rating in the past 10 months.', 'columns': [{'col': 'average_rating'}], 'description': '', 'level': 0, 'parent_task': '', 'parent_task_id': '', 'possibleExplanations': '', 'reason': 'no proxy needed for task', 'recommendations': {}, 'rows': [['3.0676']], 'sequence_no': 0, 'sql': 'SELECT AVG(`rating`) AS `average_rating` FROM `customer_feedback` WHERE `feedback_date` >= DATE_SUB(CURDATE(), INTERVAL 10 MONTH);', 'task': 'I want to see the average rating in the past 10 months', 'task_id': '0'}}, 'time_elapsed': 7.987234354019165}, 'status': 'done'}}\n"
     ]
    }
   ],
   "source": [
    "result = get_job_status('d7ad96db70b84d2d9e9f7c649fa02c1d')\n",
    "print(result)"
   ]
  },
  {
   "cell_type": "markdown",
   "metadata": {},
   "source": [
    "Result\n",
    "\n",
    "{'Code': 200, 'Result': {'ended_at': 1711351433, 'job_id': 'd7ad96db70b84d2d9e9f7c649fa02c1d', 'reason': '', 'result': {'question_id': '26db060e-9163-4f77-b6d2-493146d6f988', 'raw_question': 'I want to see the average rating in the past 10 months', 'session_context_id': 277870, 'task_tree': {'0': {'assumptions': [], 'breakdown_type': 'Resolve', 'chartOptions': {}, 'clarified_task': 'Find the average rating in the past 10 months.', 'columns': [{'col': 'average_rating'}], 'description': '', 'level': 0, 'parent_task': '', 'parent_task_id': '', 'possibleExplanations': '', 'reason': 'no proxy needed for task', 'recommendations': {}, 'rows': [['3.0676']], 'sequence_no': 0, 'sql': 'SELECT AVG(`rating`) AS `average_rating` FROM `customer_feedback` WHERE `feedback_date` >= DATE_SUB(CURDATE(), INTERVAL 10 MONTH);', 'task': 'I want to see the average rating in the past 10 months', 'task_id': '0'}}, 'time_elapsed': 7.987234354019165}, 'status': 'done'}}"
   ]
  },
  {
   "cell_type": "code",
   "execution_count": null,
   "metadata": {},
   "outputs": [],
   "source": [
    "{'Code': 200, 'Result': {'ended_at': 1711351433, 'job_id': 'd7ad96db70b84d2d9e9f7c649fa02c1d', 'reason': '', 'result': {'question_id': '26db060e-9163-4f77-b6d2-493146d6f988', 'raw_question': 'I want to see the average rating in the past 10 months', 'session_context_id': 277870, 'task_tree': {'0': {'assumptions': [], 'breakdown_type': 'Resolve', 'chartOptions': {}, 'clarified_task': 'Find the average rating in the past 10 months.', 'columns': [{'col': 'average_rating'}], 'description': '', 'level': 0, 'parent_task': '', 'parent_task_id': '', 'possibleExplanations': '', 'reason': 'no proxy needed for task', 'recommendations': {}, 'rows': [['3.0676']], 'sequence_no': 0, 'sql': 'SELECT AVG(`rating`) AS `average_rating` FROM `customer_feedback` WHERE `feedback_date` >= DATE_SUB(CURDATE(), INTERVAL 10 MONTH);', 'task': 'I want to see the average rating in the past 10 months', 'task_id': '0'}}, 'time_elapsed': 7.987234354019165}, 'status': 'done'}}"
   ]
  }
 ],
 "metadata": {
  "kernelspec": {
   "display_name": "pingcap-test",
   "language": "python",
   "name": "python3"
  },
  "language_info": {
   "codemirror_mode": {
    "name": "ipython",
    "version": 3
   },
   "file_extension": ".py",
   "mimetype": "text/x-python",
   "name": "python",
   "nbconvert_exporter": "python",
   "pygments_lexer": "ipython3",
   "version": "3.12.2"
  }
 },
 "nbformat": 4,
 "nbformat_minor": 2
}
